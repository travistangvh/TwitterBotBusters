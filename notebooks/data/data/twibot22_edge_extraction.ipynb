{
 "cells": [
  {
   "cell_type": "code",
   "execution_count": 1,
   "metadata": {},
   "outputs": [],
   "source": [
    "import pandas as pd"
   ]
  },
  {
   "cell_type": "code",
   "execution_count": 3,
   "metadata": {},
   "outputs": [
    {
     "name": "stdout",
     "output_type": "stream",
     "text": [
      "Exploration.ipynb  \u001b[34mdata\u001b[m\u001b[m/              local.ipynb\n"
     ]
    }
   ],
   "source": [
    "ls"
   ]
  },
  {
   "cell_type": "code",
   "execution_count": 26,
   "metadata": {},
   "outputs": [],
   "source": [
    "user = pd.read_csv('./data/Twibot-22/label.csv')\n",
    "# Obtain the user id and remove the first letter\n",
    "user['id']=user['id'].str[1:].astype(int)"
   ]
  },
  {
   "cell_type": "code",
   "execution_count": 36,
   "metadata": {},
   "outputs": [],
   "source": [
    "# A very slow step for some reason\n",
    "user = pd.read_json('./data/Twibot-22/user.json', nrows=10, lines=True)\n",
    "# Obtain the user id and remove the first letter\n",
    "# user['id']=user['id'].str[1:].astype(int)"
   ]
  },
  {
   "cell_type": "code",
   "execution_count": 2,
   "metadata": {},
   "outputs": [],
   "source": [
    "# Read user by chunks\n",
    "user = pd.read_json('./data/Twibot-22/user.json', \n",
    "                    chunksize=1000000, \n",
    "                    lines=True, \n",
    "                    typ='frame', \n",
    "                    orient= 'columns')\n",
    "user_list = []\n",
    "print(' read complete')\n",
    "# Read chunk by chunk\n",
    "for idx, chunk in enumerate(user):\n",
    "    # Append chunk into the \"user\" dataframe\n",
    "    user_list.append(chunk)\n",
    "    print(idx)\n",
    "    # break\n",
    "    if len(chunk)>10:\n",
    "        break\n",
    "\n",
    "# Concatenate all the chunks\n",
    "user = pd.concat(user_list, ignore_index=True)\n"
   ]
  },
  {
   "cell_type": "code",
   "execution_count": null,
   "metadata": {},
   "outputs": [],
   "source": [
    "# A very slow step for some reason\n",
    "user = pd.read_json('./data/Twibot-22/user.json', orient='records', nrows=10, lines=True)\n",
    "# Obtain the user id and remove the first letter\n",
    "# user['id']=user['id'].str[1:].astype(int)"
   ]
  },
  {
   "cell_type": "code",
   "execution_count": 32,
   "metadata": {},
   "outputs": [
    {
     "data": {
      "text/plain": [
       "Index(['source_id', 'relation', 'target_id'], dtype='object')"
      ]
     },
     "execution_count": 32,
     "metadata": {},
     "output_type": "execute_result"
    }
   ],
   "source": [
    "edges=pd.read_csv('./data/Twibot-22/edge.csv', chunksize=10000000)\n",
    "edges.get_chunk().columns"
   ]
  },
  {
   "cell_type": "code",
   "execution_count": 33,
   "metadata": {},
   "outputs": [
    {
     "name": "stdout",
     "output_type": "stream",
     "text": [
      "0\n"
     ]
    }
   ],
   "source": [
    "edges_list = []\n",
    "for idx, chunk in enumerate(edges):\n",
    "    if idx == 0:\n",
    "        edge=pd.DataFrame(columns=chunk.columns)\n",
    "    # \n",
    "    chunk=chunk[chunk['source_id'].isin(user['id']) | chunk['target_id'].isin(user['id'])]\n",
    "    # Append chunk into the \"edge\" dataframe\n",
    "    edges_list.append(chunk)\n",
    "    print(idx)\n",
    "    break\n",
    "edge = pd.concat(edges_list, ignore_index=True)"
   ]
  },
  {
   "cell_type": "code",
   "execution_count": 34,
   "metadata": {},
   "outputs": [
    {
     "data": {
      "text/html": [
       "<div>\n",
       "<style scoped>\n",
       "    .dataframe tbody tr th:only-of-type {\n",
       "        vertical-align: middle;\n",
       "    }\n",
       "\n",
       "    .dataframe tbody tr th {\n",
       "        vertical-align: top;\n",
       "    }\n",
       "\n",
       "    .dataframe thead th {\n",
       "        text-align: right;\n",
       "    }\n",
       "</style>\n",
       "<table border=\"1\" class=\"dataframe\">\n",
       "  <thead>\n",
       "    <tr style=\"text-align: right;\">\n",
       "      <th></th>\n",
       "      <th>source_id</th>\n",
       "      <th>relation</th>\n",
       "      <th>target_id</th>\n",
       "    </tr>\n",
       "  </thead>\n",
       "  <tbody>\n",
       "    <tr>\n",
       "      <th>0</th>\n",
       "      <td>u2670720884</td>\n",
       "      <td>post</td>\n",
       "      <td>t1491952895209660447</td>\n",
       "    </tr>\n",
       "    <tr>\n",
       "      <th>1</th>\n",
       "      <td>u1961901163</td>\n",
       "      <td>post</td>\n",
       "      <td>t736276241301413888</td>\n",
       "    </tr>\n",
       "    <tr>\n",
       "      <th>2</th>\n",
       "      <td>u122139060</td>\n",
       "      <td>post</td>\n",
       "      <td>t1171517718849179649</td>\n",
       "    </tr>\n",
       "    <tr>\n",
       "      <th>3</th>\n",
       "      <td>u71311181</td>\n",
       "      <td>post</td>\n",
       "      <td>t1491746705464770561</td>\n",
       "    </tr>\n",
       "    <tr>\n",
       "      <th>4</th>\n",
       "      <td>u39034982</td>\n",
       "      <td>post</td>\n",
       "      <td>t1499823361261817858</td>\n",
       "    </tr>\n",
       "    <tr>\n",
       "      <th>...</th>\n",
       "      <td>...</td>\n",
       "      <td>...</td>\n",
       "      <td>...</td>\n",
       "    </tr>\n",
       "    <tr>\n",
       "      <th>9999995</th>\n",
       "      <td>u1161954894615650307</td>\n",
       "      <td>post</td>\n",
       "      <td>t1447492065894490113</td>\n",
       "    </tr>\n",
       "    <tr>\n",
       "      <th>9999996</th>\n",
       "      <td>u1482227573321080835</td>\n",
       "      <td>post</td>\n",
       "      <td>t1494824937034506241</td>\n",
       "    </tr>\n",
       "    <tr>\n",
       "      <th>9999997</th>\n",
       "      <td>u1295173635901202435</td>\n",
       "      <td>post</td>\n",
       "      <td>t1497958917866938369</td>\n",
       "    </tr>\n",
       "    <tr>\n",
       "      <th>9999998</th>\n",
       "      <td>u29958190</td>\n",
       "      <td>post</td>\n",
       "      <td>t1302228357300531200</td>\n",
       "    </tr>\n",
       "    <tr>\n",
       "      <th>9999999</th>\n",
       "      <td>u610637137</td>\n",
       "      <td>post</td>\n",
       "      <td>t1468854457295257600</td>\n",
       "    </tr>\n",
       "  </tbody>\n",
       "</table>\n",
       "<p>10000000 rows × 3 columns</p>\n",
       "</div>"
      ],
      "text/plain": [
       "                    source_id relation             target_id\n",
       "0                 u2670720884     post  t1491952895209660447\n",
       "1                 u1961901163     post   t736276241301413888\n",
       "2                  u122139060     post  t1171517718849179649\n",
       "3                   u71311181     post  t1491746705464770561\n",
       "4                   u39034982     post  t1499823361261817858\n",
       "...                       ...      ...                   ...\n",
       "9999995  u1161954894615650307     post  t1447492065894490113\n",
       "9999996  u1482227573321080835     post  t1494824937034506241\n",
       "9999997  u1295173635901202435     post  t1497958917866938369\n",
       "9999998             u29958190     post  t1302228357300531200\n",
       "9999999            u610637137     post  t1468854457295257600\n",
       "\n",
       "[10000000 rows x 3 columns]"
      ]
     },
     "execution_count": 34,
     "metadata": {},
     "output_type": "execute_result"
    }
   ],
   "source": [
    "edge"
   ]
  },
  {
   "cell_type": "code",
   "execution_count": 35,
   "metadata": {},
   "outputs": [
    {
     "data": {
      "text/html": [
       "<div>\n",
       "<style scoped>\n",
       "    .dataframe tbody tr th:only-of-type {\n",
       "        vertical-align: middle;\n",
       "    }\n",
       "\n",
       "    .dataframe tbody tr th {\n",
       "        vertical-align: top;\n",
       "    }\n",
       "\n",
       "    .dataframe thead th {\n",
       "        text-align: right;\n",
       "    }\n",
       "</style>\n",
       "<table border=\"1\" class=\"dataframe\">\n",
       "  <thead>\n",
       "    <tr style=\"text-align: right;\">\n",
       "      <th></th>\n",
       "      <th>id</th>\n",
       "      <th>label</th>\n",
       "    </tr>\n",
       "  </thead>\n",
       "  <tbody>\n",
       "    <tr>\n",
       "      <th>0</th>\n",
       "      <td>u1217628182611927040</td>\n",
       "      <td>human</td>\n",
       "    </tr>\n",
       "    <tr>\n",
       "      <th>1</th>\n",
       "      <td>u2664730894</td>\n",
       "      <td>human</td>\n",
       "    </tr>\n",
       "    <tr>\n",
       "      <th>2</th>\n",
       "      <td>u1266703520205549568</td>\n",
       "      <td>human</td>\n",
       "    </tr>\n",
       "    <tr>\n",
       "      <th>3</th>\n",
       "      <td>u1089159225148882949</td>\n",
       "      <td>human</td>\n",
       "    </tr>\n",
       "    <tr>\n",
       "      <th>4</th>\n",
       "      <td>u36741729</td>\n",
       "      <td>bot</td>\n",
       "    </tr>\n",
       "    <tr>\n",
       "      <th>...</th>\n",
       "      <td>...</td>\n",
       "      <td>...</td>\n",
       "    </tr>\n",
       "    <tr>\n",
       "      <th>999995</th>\n",
       "      <td>u1151138281</td>\n",
       "      <td>human</td>\n",
       "    </tr>\n",
       "    <tr>\n",
       "      <th>999996</th>\n",
       "      <td>u1339035361</td>\n",
       "      <td>human</td>\n",
       "    </tr>\n",
       "    <tr>\n",
       "      <th>999997</th>\n",
       "      <td>u318636852</td>\n",
       "      <td>human</td>\n",
       "    </tr>\n",
       "    <tr>\n",
       "      <th>999998</th>\n",
       "      <td>u43443354</td>\n",
       "      <td>human</td>\n",
       "    </tr>\n",
       "    <tr>\n",
       "      <th>999999</th>\n",
       "      <td>u29471345</td>\n",
       "      <td>human</td>\n",
       "    </tr>\n",
       "  </tbody>\n",
       "</table>\n",
       "<p>1000000 rows × 2 columns</p>\n",
       "</div>"
      ],
      "text/plain": [
       "                          id  label\n",
       "0       u1217628182611927040  human\n",
       "1                u2664730894  human\n",
       "2       u1266703520205549568  human\n",
       "3       u1089159225148882949  human\n",
       "4                  u36741729    bot\n",
       "...                      ...    ...\n",
       "999995           u1151138281  human\n",
       "999996           u1339035361  human\n",
       "999997            u318636852  human\n",
       "999998             u43443354  human\n",
       "999999             u29471345  human\n",
       "\n",
       "[1000000 rows x 2 columns]"
      ]
     },
     "execution_count": 35,
     "metadata": {},
     "output_type": "execute_result"
    }
   ],
   "source": [
    "user"
   ]
  },
  {
   "cell_type": "code",
   "execution_count": 12,
   "metadata": {},
   "outputs": [
    {
     "data": {
      "text/html": [
       "<div>\n",
       "<style scoped>\n",
       "    .dataframe tbody tr th:only-of-type {\n",
       "        vertical-align: middle;\n",
       "    }\n",
       "\n",
       "    .dataframe tbody tr th {\n",
       "        vertical-align: top;\n",
       "    }\n",
       "\n",
       "    .dataframe thead th {\n",
       "        text-align: right;\n",
       "    }\n",
       "</style>\n",
       "<table border=\"1\" class=\"dataframe\">\n",
       "  <thead>\n",
       "    <tr style=\"text-align: right;\">\n",
       "      <th></th>\n",
       "      <th>source_id</th>\n",
       "      <th>relation</th>\n",
       "      <th>target_id</th>\n",
       "    </tr>\n",
       "  </thead>\n",
       "  <tbody>\n",
       "    <tr>\n",
       "      <th>0</th>\n",
       "      <td>u2670720884</td>\n",
       "      <td>post</td>\n",
       "      <td>t1491952895209660447</td>\n",
       "    </tr>\n",
       "    <tr>\n",
       "      <th>1</th>\n",
       "      <td>u1961901163</td>\n",
       "      <td>post</td>\n",
       "      <td>t736276241301413888</td>\n",
       "    </tr>\n",
       "    <tr>\n",
       "      <th>2</th>\n",
       "      <td>u122139060</td>\n",
       "      <td>post</td>\n",
       "      <td>t1171517718849179649</td>\n",
       "    </tr>\n",
       "    <tr>\n",
       "      <th>3</th>\n",
       "      <td>u71311181</td>\n",
       "      <td>post</td>\n",
       "      <td>t1491746705464770561</td>\n",
       "    </tr>\n",
       "    <tr>\n",
       "      <th>4</th>\n",
       "      <td>u39034982</td>\n",
       "      <td>post</td>\n",
       "      <td>t1499823361261817858</td>\n",
       "    </tr>\n",
       "    <tr>\n",
       "      <th>...</th>\n",
       "      <td>...</td>\n",
       "      <td>...</td>\n",
       "      <td>...</td>\n",
       "    </tr>\n",
       "    <tr>\n",
       "      <th>9999995</th>\n",
       "      <td>u1161954894615650307</td>\n",
       "      <td>post</td>\n",
       "      <td>t1447492065894490113</td>\n",
       "    </tr>\n",
       "    <tr>\n",
       "      <th>9999996</th>\n",
       "      <td>u1482227573321080835</td>\n",
       "      <td>post</td>\n",
       "      <td>t1494824937034506241</td>\n",
       "    </tr>\n",
       "    <tr>\n",
       "      <th>9999997</th>\n",
       "      <td>u1295173635901202435</td>\n",
       "      <td>post</td>\n",
       "      <td>t1497958917866938369</td>\n",
       "    </tr>\n",
       "    <tr>\n",
       "      <th>9999998</th>\n",
       "      <td>u29958190</td>\n",
       "      <td>post</td>\n",
       "      <td>t1302228357300531200</td>\n",
       "    </tr>\n",
       "    <tr>\n",
       "      <th>9999999</th>\n",
       "      <td>u610637137</td>\n",
       "      <td>post</td>\n",
       "      <td>t1468854457295257600</td>\n",
       "    </tr>\n",
       "  </tbody>\n",
       "</table>\n",
       "<p>10000000 rows × 3 columns</p>\n",
       "</div>"
      ],
      "text/plain": [
       "                    source_id relation             target_id\n",
       "0                 u2670720884     post  t1491952895209660447\n",
       "1                 u1961901163     post   t736276241301413888\n",
       "2                  u122139060     post  t1171517718849179649\n",
       "3                   u71311181     post  t1491746705464770561\n",
       "4                   u39034982     post  t1499823361261817858\n",
       "...                       ...      ...                   ...\n",
       "9999995  u1161954894615650307     post  t1447492065894490113\n",
       "9999996  u1482227573321080835     post  t1494824937034506241\n",
       "9999997  u1295173635901202435     post  t1497958917866938369\n",
       "9999998             u29958190     post  t1302228357300531200\n",
       "9999999            u610637137     post  t1468854457295257600\n",
       "\n",
       "[10000000 rows x 3 columns]"
      ]
     },
     "execution_count": 12,
     "metadata": {},
     "output_type": "execute_result"
    }
   ],
   "source": [
    "edge"
   ]
  },
  {
   "cell_type": "code",
   "execution_count": null,
   "metadata": {},
   "outputs": [],
   "source": []
  }
 ],
 "metadata": {
  "kernelspec": {
   "display_name": "Python 3",
   "language": "python",
   "name": "python3"
  },
  "language_info": {
   "codemirror_mode": {
    "name": "ipython",
    "version": 3
   },
   "file_extension": ".py",
   "mimetype": "text/x-python",
   "name": "python",
   "nbconvert_exporter": "python",
   "pygments_lexer": "ipython3",
   "version": "3.9.13"
  },
  "orig_nbformat": 4
 },
 "nbformat": 4,
 "nbformat_minor": 2
}
